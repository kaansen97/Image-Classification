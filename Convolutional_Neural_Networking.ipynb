{
  "nbformat": 4,
  "nbformat_minor": 0,
  "metadata": {
    "colab": {
      "name": "Convolutional Neural Networking.ipynb",
      "provenance": [],
      "collapsed_sections": [],
      "include_colab_link": true
    },
    "kernelspec": {
      "name": "python3",
      "display_name": "Python 3"
    },
    "language_info": {
      "name": "python"
    }
  },
  "cells": [
    {
      "cell_type": "markdown",
      "metadata": {
        "id": "view-in-github",
        "colab_type": "text"
      },
      "source": [
        "<a href=\"https://colab.research.google.com/github/kaansen97/Image-Classification/blob/Education/Convolutional_Neural_Networking.ipynb\" target=\"_parent\"><img src=\"https://colab.research.google.com/assets/colab-badge.svg\" alt=\"Open In Colab\"/></a>"
      ]
    },
    {
      "cell_type": "markdown",
      "source": [
        "#SINIR HUCRESI GIBI BU DA HER BILGIYI TASIMAZ SADECE DEGERLI VERILERI GECIRIR\n",
        "## Verilerin bazilari kullanilir  : ReLU , Sigmoid ve Softmax bu aktivasyon fonksiyonlarindan bazilaridir  Her girdi Alinmaz aktivasyon fonksiyonundan gecebilenler sadece cikti oluyor\n",
        "## ReLU Eger girdi degeri pozitif ise dikkate alir negatif degerlerden 0 sonucunu cikartir\n",
        "\n",
        "## TUM CIKTILAR DOGRU SONUC VERMEZ VERMEYENLER YITIM HESAPLAMASI DENILEN YONTEM ILE OLCULUR BU DONUSTEN HATALI VERILER FONKSIYONA GERI GONDERILIP SONUC CIKARTILIR\n",
        "\n",
        "\n",
        "### NORMAL BIR ISLEMDE GIRDI KATMANI -> GIZLI KATMAN -> CIKTI KATMANI VARDIR \n",
        "### GIZLI KATMAN  BIR COK KATMANDAN OLUSUR\n",
        "\n"
      ],
      "metadata": {
        "id": "JyRfzr2TRpqL"
      }
    },
    {
      "cell_type": "code",
      "execution_count": null,
      "metadata": {
        "id": "NWRuoRB4PRzD"
      },
      "outputs": [],
      "source": [
        "from keras.models import Sequential \n",
        "from keras.layers import Dense # OGRENIM KATMANLARINI DENSE LER ILE TANIMLIYORUZ\n",
        "import numpy as np\n",
        "import seaborn as sns\n",
        "from sklearn.preprocessing import OneHotEncoder\n",
        "from sklearn.model_selection import train_test_split"
      ]
    },
    {
      "cell_type": "code",
      "source": [
        "iris=sns.load_dataset('iris')\n"
      ],
      "metadata": {
        "id": "YD3NJuLaSxoH"
      },
      "execution_count": null,
      "outputs": []
    },
    {
      "cell_type": "code",
      "source": [
        "X=iris.drop(columns=['species'])#verilerin neye gore gruplanicagi\n",
        "y=iris['species'].values# gruplanan verilerin ne degerler tasiyacagi\n"
      ],
      "metadata": {
        "id": "WworHpaAYR7P"
      },
      "execution_count": null,
      "outputs": []
    },
    {
      "cell_type": "code",
      "source": [
        "enc=OneHotEncoder()\n",
        "y=enc.fit_transform(y[:,np.newaxis]).toarray() # BURDA YAPAY SINIR AGLARINDA STRING OLMAZ O YUZDEN TURLERI ENCODE EFIYORUZ 0 1 2 3 4 vs DIYEREK MESELA IRIS SETOSA 0 IRIS VERSICOLOR 1 DIYE HER TUR BIR SAYI OLUYOR\n"
      ],
      "metadata": {
        "id": "YXzwyZhNYVc9"
      },
      "execution_count": null,
      "outputs": []
    },
    {
      "cell_type": "code",
      "source": [
        "X_train,X_test,y_train,y_test=train_test_split(X,y,random_state=42)"
      ],
      "metadata": {
        "id": "v0SDoZM_YYhe"
      },
      "execution_count": null,
      "outputs": []
    },
    {
      "cell_type": "code",
      "source": [
        "# SIMDI MJODEL MIMARISI OLUSTURUCAM \n",
        "model=Sequential()\n",
        "\n"
      ],
      "metadata": {
        "id": "J-P1aHIJT_JE"
      },
      "execution_count": null,
      "outputs": []
    },
    {
      "cell_type": "code",
      "source": [
        "X.shape"
      ],
      "metadata": {
        "colab": {
          "base_uri": "https://localhost:8080/"
        },
        "id": "-k4bRHBaMfWl",
        "outputId": "cb64c204-a2d7-4be3-b06d-b353056e219a"
      },
      "execution_count": null,
      "outputs": [
        {
          "output_type": "execute_result",
          "data": {
            "text/plain": [
              "(150, 4)"
            ]
          },
          "metadata": {},
          "execution_count": 8
        }
      ]
    },
    {
      "cell_type": "code",
      "source": [
        "model.add(Dense(8,input_dim=X_train.shape[1],activation='relu'))# NORON SAYILARI ONEMLI BIZIM 4 TUR CICEGIMIZ OLDUGU ICIN GIRISTE 4 ADET NORONA IHTIYACIMIZ VAR CIKISTA DA 3 CESIT CICEK OLDUGU ICIN 3 NORONA IHTIYACIMIZ VAR\n",
        "# BURDA 8'LIK BIR ARA KATMAN EKLEDIK GIRISLERI DE INPUT_DIM YAZDIK SPECIES TABLOSUNUN SHAPE I KADAR NORON OLCAK DEDIK\n",
        "model.add(Dense(6,activation='sigmoid')) #burda yeni bir ara katman tanimladik 6 tane norona sahip bir katman daha koyduk yani aktivasyonu da sigmoid fonksiyonu\n",
        "model.add(Dense(8,activation='relu'))#burda ara katmana 8 noronluk bir katman daha ekledik aktivasyon fonksiyonu relu \n",
        "model.add(Dense(y_train.shape[1],activation='softmax'))"
      ],
      "metadata": {
        "id": "WDpR7ty-Yb-i"
      },
      "execution_count": null,
      "outputs": []
    },
    {
      "cell_type": "code",
      "source": [
        "model.compile(loss='binary_crossentropy',metrics=['accuracy'])#burda yitim hesaplamayi binary crossentropy yaptik  bu da her bir sonucun gercek sonuctan olan farkina bak demek oluyor\n",
        "#metrics de accuracy ye gore derecelendir eger ne kadar accuracy yuksekse o kadar iyi demis oluyorum\n",
        "model.fit(X_train,y_train,epochs=150)# burdaki epoch tekrar sayisi yani 150 kere hesapla git gel yitime bak onlari tekrarla sonra bir daha bak yine tekrarla"
      ],
      "metadata": {
        "colab": {
          "base_uri": "https://localhost:8080/"
        },
        "id": "SgVJn_z-Yf0e",
        "outputId": "2fc0c59f-db7e-4b26-804f-3b78806f9991"
      },
      "execution_count": null,
      "outputs": [
        {
          "output_type": "stream",
          "name": "stdout",
          "text": [
            "Epoch 1/150\n",
            "4/4 [==============================] - 1s 4ms/step - loss: 0.8472 - accuracy: 0.3125\n",
            "Epoch 2/150\n",
            "4/4 [==============================] - 0s 5ms/step - loss: 0.8204 - accuracy: 0.3125\n",
            "Epoch 3/150\n",
            "4/4 [==============================] - 0s 4ms/step - loss: 0.8032 - accuracy: 0.3125\n",
            "Epoch 4/150\n",
            "4/4 [==============================] - 0s 4ms/step - loss: 0.7892 - accuracy: 0.3125\n",
            "Epoch 5/150\n",
            "4/4 [==============================] - 0s 6ms/step - loss: 0.7779 - accuracy: 0.3125\n",
            "Epoch 6/150\n",
            "4/4 [==============================] - 0s 4ms/step - loss: 0.7674 - accuracy: 0.3125\n",
            "Epoch 7/150\n",
            "4/4 [==============================] - 0s 4ms/step - loss: 0.7577 - accuracy: 0.3125\n",
            "Epoch 8/150\n",
            "4/4 [==============================] - 0s 4ms/step - loss: 0.7480 - accuracy: 0.3125\n",
            "Epoch 9/150\n",
            "4/4 [==============================] - 0s 4ms/step - loss: 0.7387 - accuracy: 0.3125\n",
            "Epoch 10/150\n",
            "4/4 [==============================] - 0s 4ms/step - loss: 0.7307 - accuracy: 0.3125\n",
            "Epoch 11/150\n",
            "4/4 [==============================] - 0s 4ms/step - loss: 0.7239 - accuracy: 0.3125\n",
            "Epoch 12/150\n",
            "4/4 [==============================] - 0s 4ms/step - loss: 0.7171 - accuracy: 0.3125\n",
            "Epoch 13/150\n",
            "4/4 [==============================] - 0s 4ms/step - loss: 0.7103 - accuracy: 0.3125\n",
            "Epoch 14/150\n",
            "4/4 [==============================] - 0s 5ms/step - loss: 0.7041 - accuracy: 0.3125\n",
            "Epoch 15/150\n",
            "4/4 [==============================] - 0s 4ms/step - loss: 0.6978 - accuracy: 0.3125\n",
            "Epoch 16/150\n",
            "4/4 [==============================] - 0s 5ms/step - loss: 0.6918 - accuracy: 0.3125\n",
            "Epoch 17/150\n",
            "4/4 [==============================] - 0s 3ms/step - loss: 0.6870 - accuracy: 0.3125\n",
            "Epoch 18/150\n",
            "4/4 [==============================] - 0s 3ms/step - loss: 0.6813 - accuracy: 0.3125\n",
            "Epoch 19/150\n",
            "4/4 [==============================] - 0s 7ms/step - loss: 0.6768 - accuracy: 0.3125\n",
            "Epoch 20/150\n",
            "4/4 [==============================] - 0s 4ms/step - loss: 0.6721 - accuracy: 0.3125\n",
            "Epoch 21/150\n",
            "4/4 [==============================] - 0s 4ms/step - loss: 0.6685 - accuracy: 0.3125\n",
            "Epoch 22/150\n",
            "4/4 [==============================] - 0s 4ms/step - loss: 0.6649 - accuracy: 0.3125\n",
            "Epoch 23/150\n",
            "4/4 [==============================] - 0s 4ms/step - loss: 0.6614 - accuracy: 0.3125\n",
            "Epoch 24/150\n",
            "4/4 [==============================] - 0s 4ms/step - loss: 0.6582 - accuracy: 0.3125\n",
            "Epoch 25/150\n",
            "4/4 [==============================] - 0s 4ms/step - loss: 0.6550 - accuracy: 0.3125\n",
            "Epoch 26/150\n",
            "4/4 [==============================] - 0s 4ms/step - loss: 0.6518 - accuracy: 0.3125\n",
            "Epoch 27/150\n",
            "4/4 [==============================] - 0s 6ms/step - loss: 0.6491 - accuracy: 0.3125\n",
            "Epoch 28/150\n",
            "4/4 [==============================] - 0s 4ms/step - loss: 0.6454 - accuracy: 0.3125\n",
            "Epoch 29/150\n",
            "4/4 [==============================] - 0s 4ms/step - loss: 0.6418 - accuracy: 0.3125\n",
            "Epoch 30/150\n",
            "4/4 [==============================] - 0s 4ms/step - loss: 0.6384 - accuracy: 0.3125\n",
            "Epoch 31/150\n",
            "4/4 [==============================] - 0s 3ms/step - loss: 0.6349 - accuracy: 0.3125\n",
            "Epoch 32/150\n",
            "4/4 [==============================] - 0s 5ms/step - loss: 0.6315 - accuracy: 0.3125\n",
            "Epoch 33/150\n",
            "4/4 [==============================] - 0s 4ms/step - loss: 0.6283 - accuracy: 0.3125\n",
            "Epoch 34/150\n",
            "4/4 [==============================] - 0s 4ms/step - loss: 0.6250 - accuracy: 0.3125\n",
            "Epoch 35/150\n",
            "4/4 [==============================] - 0s 4ms/step - loss: 0.6217 - accuracy: 0.3125\n",
            "Epoch 36/150\n",
            "4/4 [==============================] - 0s 4ms/step - loss: 0.6183 - accuracy: 0.3125\n",
            "Epoch 37/150\n",
            "4/4 [==============================] - 0s 4ms/step - loss: 0.6153 - accuracy: 0.3214\n",
            "Epoch 38/150\n",
            "4/4 [==============================] - 0s 4ms/step - loss: 0.6126 - accuracy: 0.3214\n",
            "Epoch 39/150\n",
            "4/4 [==============================] - 0s 4ms/step - loss: 0.6095 - accuracy: 0.3482\n",
            "Epoch 40/150\n",
            "4/4 [==============================] - 0s 3ms/step - loss: 0.6066 - accuracy: 0.4375\n",
            "Epoch 41/150\n",
            "4/4 [==============================] - 0s 4ms/step - loss: 0.6039 - accuracy: 0.4107\n",
            "Epoch 42/150\n",
            "4/4 [==============================] - 0s 5ms/step - loss: 0.6010 - accuracy: 0.4107\n",
            "Epoch 43/150\n",
            "4/4 [==============================] - 0s 4ms/step - loss: 0.5985 - accuracy: 0.4554\n",
            "Epoch 44/150\n",
            "4/4 [==============================] - 0s 5ms/step - loss: 0.5957 - accuracy: 0.5893\n",
            "Epoch 45/150\n",
            "4/4 [==============================] - 0s 6ms/step - loss: 0.5925 - accuracy: 0.5357\n",
            "Epoch 46/150\n",
            "4/4 [==============================] - 0s 5ms/step - loss: 0.5895 - accuracy: 0.5268\n",
            "Epoch 47/150\n",
            "4/4 [==============================] - 0s 4ms/step - loss: 0.5865 - accuracy: 0.5893\n",
            "Epoch 48/150\n",
            "4/4 [==============================] - 0s 3ms/step - loss: 0.5834 - accuracy: 0.5804\n",
            "Epoch 49/150\n",
            "4/4 [==============================] - 0s 4ms/step - loss: 0.5806 - accuracy: 0.5268\n",
            "Epoch 50/150\n",
            "4/4 [==============================] - 0s 4ms/step - loss: 0.5775 - accuracy: 0.5625\n",
            "Epoch 51/150\n",
            "4/4 [==============================] - 0s 4ms/step - loss: 0.5748 - accuracy: 0.5357\n",
            "Epoch 52/150\n",
            "4/4 [==============================] - 0s 5ms/step - loss: 0.5718 - accuracy: 0.6161\n",
            "Epoch 53/150\n",
            "4/4 [==============================] - 0s 4ms/step - loss: 0.5689 - accuracy: 0.5982\n",
            "Epoch 54/150\n",
            "4/4 [==============================] - 0s 5ms/step - loss: 0.5663 - accuracy: 0.6071\n",
            "Epoch 55/150\n",
            "4/4 [==============================] - 0s 5ms/step - loss: 0.5628 - accuracy: 0.6518\n",
            "Epoch 56/150\n",
            "4/4 [==============================] - 0s 3ms/step - loss: 0.5603 - accuracy: 0.7946\n",
            "Epoch 57/150\n",
            "4/4 [==============================] - 0s 4ms/step - loss: 0.5572 - accuracy: 0.7232\n",
            "Epoch 58/150\n",
            "4/4 [==============================] - 0s 4ms/step - loss: 0.5547 - accuracy: 0.7679\n",
            "Epoch 59/150\n",
            "4/4 [==============================] - 0s 5ms/step - loss: 0.5511 - accuracy: 0.8304\n",
            "Epoch 60/150\n",
            "4/4 [==============================] - 0s 5ms/step - loss: 0.5482 - accuracy: 0.7500\n",
            "Epoch 61/150\n",
            "4/4 [==============================] - 0s 6ms/step - loss: 0.5460 - accuracy: 0.6607\n",
            "Epoch 62/150\n",
            "4/4 [==============================] - 0s 4ms/step - loss: 0.5424 - accuracy: 0.8571\n",
            "Epoch 63/150\n",
            "4/4 [==============================] - 0s 4ms/step - loss: 0.5395 - accuracy: 0.8304\n",
            "Epoch 64/150\n",
            "4/4 [==============================] - 0s 5ms/step - loss: 0.5369 - accuracy: 0.8929\n",
            "Epoch 65/150\n",
            "4/4 [==============================] - 0s 4ms/step - loss: 0.5339 - accuracy: 0.8214\n",
            "Epoch 66/150\n",
            "4/4 [==============================] - 0s 5ms/step - loss: 0.5307 - accuracy: 0.8929\n",
            "Epoch 67/150\n",
            "4/4 [==============================] - 0s 4ms/step - loss: 0.5285 - accuracy: 0.9018\n",
            "Epoch 68/150\n",
            "4/4 [==============================] - 0s 5ms/step - loss: 0.5242 - accuracy: 0.9018\n",
            "Epoch 69/150\n",
            "4/4 [==============================] - 0s 5ms/step - loss: 0.5212 - accuracy: 0.9018\n",
            "Epoch 70/150\n",
            "4/4 [==============================] - 0s 4ms/step - loss: 0.5179 - accuracy: 0.9286\n",
            "Epoch 71/150\n",
            "4/4 [==============================] - 0s 4ms/step - loss: 0.5148 - accuracy: 0.9018\n",
            "Epoch 72/150\n",
            "4/4 [==============================] - 0s 4ms/step - loss: 0.5115 - accuracy: 0.9107\n",
            "Epoch 73/150\n",
            "4/4 [==============================] - 0s 4ms/step - loss: 0.5078 - accuracy: 0.9286\n",
            "Epoch 74/150\n",
            "4/4 [==============================] - 0s 5ms/step - loss: 0.5044 - accuracy: 0.9375\n",
            "Epoch 75/150\n",
            "4/4 [==============================] - 0s 4ms/step - loss: 0.5010 - accuracy: 0.9464\n",
            "Epoch 76/150\n",
            "4/4 [==============================] - 0s 6ms/step - loss: 0.4978 - accuracy: 0.9286\n",
            "Epoch 77/150\n",
            "4/4 [==============================] - 0s 4ms/step - loss: 0.4944 - accuracy: 0.9464\n",
            "Epoch 78/150\n",
            "4/4 [==============================] - 0s 4ms/step - loss: 0.4913 - accuracy: 0.9464\n",
            "Epoch 79/150\n",
            "4/4 [==============================] - 0s 5ms/step - loss: 0.4871 - accuracy: 0.9375\n",
            "Epoch 80/150\n",
            "4/4 [==============================] - 0s 4ms/step - loss: 0.4844 - accuracy: 0.9286\n",
            "Epoch 81/150\n",
            "4/4 [==============================] - 0s 5ms/step - loss: 0.4807 - accuracy: 0.9375\n",
            "Epoch 82/150\n",
            "4/4 [==============================] - 0s 5ms/step - loss: 0.4769 - accuracy: 0.9643\n",
            "Epoch 83/150\n",
            "4/4 [==============================] - 0s 5ms/step - loss: 0.4737 - accuracy: 0.9375\n",
            "Epoch 84/150\n",
            "4/4 [==============================] - 0s 4ms/step - loss: 0.4701 - accuracy: 0.9554\n",
            "Epoch 85/150\n",
            "4/4 [==============================] - 0s 5ms/step - loss: 0.4665 - accuracy: 0.9464\n",
            "Epoch 86/150\n",
            "4/4 [==============================] - 0s 4ms/step - loss: 0.4629 - accuracy: 0.9554\n",
            "Epoch 87/150\n",
            "4/4 [==============================] - 0s 4ms/step - loss: 0.4596 - accuracy: 0.9464\n",
            "Epoch 88/150\n",
            "4/4 [==============================] - 0s 4ms/step - loss: 0.4561 - accuracy: 0.9375\n",
            "Epoch 89/150\n",
            "4/4 [==============================] - 0s 4ms/step - loss: 0.4527 - accuracy: 0.9196\n",
            "Epoch 90/150\n",
            "4/4 [==============================] - 0s 4ms/step - loss: 0.4491 - accuracy: 0.9286\n",
            "Epoch 91/150\n",
            "4/4 [==============================] - 0s 4ms/step - loss: 0.4455 - accuracy: 0.9286\n",
            "Epoch 92/150\n",
            "4/4 [==============================] - 0s 4ms/step - loss: 0.4431 - accuracy: 0.9375\n",
            "Epoch 93/150\n",
            "4/4 [==============================] - 0s 4ms/step - loss: 0.4387 - accuracy: 0.9554\n",
            "Epoch 94/150\n",
            "4/4 [==============================] - 0s 5ms/step - loss: 0.4352 - accuracy: 0.9464\n",
            "Epoch 95/150\n",
            "4/4 [==============================] - 0s 4ms/step - loss: 0.4317 - accuracy: 0.9464\n",
            "Epoch 96/150\n",
            "4/4 [==============================] - 0s 4ms/step - loss: 0.4280 - accuracy: 0.9464\n",
            "Epoch 97/150\n",
            "4/4 [==============================] - 0s 6ms/step - loss: 0.4253 - accuracy: 0.9643\n",
            "Epoch 98/150\n",
            "4/4 [==============================] - 0s 6ms/step - loss: 0.4212 - accuracy: 0.9554\n",
            "Epoch 99/150\n",
            "4/4 [==============================] - 0s 4ms/step - loss: 0.4177 - accuracy: 0.9732\n",
            "Epoch 100/150\n",
            "4/4 [==============================] - 0s 4ms/step - loss: 0.4141 - accuracy: 0.9643\n",
            "Epoch 101/150\n",
            "4/4 [==============================] - 0s 5ms/step - loss: 0.4106 - accuracy: 0.9732\n",
            "Epoch 102/150\n",
            "4/4 [==============================] - 0s 6ms/step - loss: 0.4078 - accuracy: 0.9643\n",
            "Epoch 103/150\n",
            "4/4 [==============================] - 0s 4ms/step - loss: 0.4042 - accuracy: 0.9464\n",
            "Epoch 104/150\n",
            "4/4 [==============================] - 0s 5ms/step - loss: 0.4007 - accuracy: 0.9643\n",
            "Epoch 105/150\n",
            "4/4 [==============================] - 0s 4ms/step - loss: 0.3976 - accuracy: 0.9643\n",
            "Epoch 106/150\n",
            "4/4 [==============================] - 0s 4ms/step - loss: 0.3950 - accuracy: 0.9643\n",
            "Epoch 107/150\n",
            "4/4 [==============================] - 0s 4ms/step - loss: 0.3918 - accuracy: 0.9643\n",
            "Epoch 108/150\n",
            "4/4 [==============================] - 0s 5ms/step - loss: 0.3884 - accuracy: 0.9643\n",
            "Epoch 109/150\n",
            "4/4 [==============================] - 0s 5ms/step - loss: 0.3856 - accuracy: 0.9732\n",
            "Epoch 110/150\n",
            "4/4 [==============================] - 0s 5ms/step - loss: 0.3822 - accuracy: 0.9643\n",
            "Epoch 111/150\n",
            "4/4 [==============================] - 0s 5ms/step - loss: 0.3796 - accuracy: 0.9643\n",
            "Epoch 112/150\n",
            "4/4 [==============================] - 0s 4ms/step - loss: 0.3769 - accuracy: 0.9643\n",
            "Epoch 113/150\n",
            "4/4 [==============================] - 0s 5ms/step - loss: 0.3735 - accuracy: 0.9554\n",
            "Epoch 114/150\n",
            "4/4 [==============================] - 0s 4ms/step - loss: 0.3715 - accuracy: 0.9643\n",
            "Epoch 115/150\n",
            "4/4 [==============================] - 0s 4ms/step - loss: 0.3682 - accuracy: 0.9643\n",
            "Epoch 116/150\n",
            "4/4 [==============================] - 0s 4ms/step - loss: 0.3657 - accuracy: 0.9643\n",
            "Epoch 117/150\n",
            "4/4 [==============================] - 0s 4ms/step - loss: 0.3631 - accuracy: 0.9643\n",
            "Epoch 118/150\n",
            "4/4 [==============================] - 0s 5ms/step - loss: 0.3599 - accuracy: 0.9643\n",
            "Epoch 119/150\n",
            "4/4 [==============================] - 0s 4ms/step - loss: 0.3576 - accuracy: 0.9554\n",
            "Epoch 120/150\n",
            "4/4 [==============================] - 0s 5ms/step - loss: 0.3546 - accuracy: 0.9643\n",
            "Epoch 121/150\n",
            "4/4 [==============================] - 0s 4ms/step - loss: 0.3524 - accuracy: 0.9554\n",
            "Epoch 122/150\n",
            "4/4 [==============================] - 0s 4ms/step - loss: 0.3497 - accuracy: 0.9643\n",
            "Epoch 123/150\n",
            "4/4 [==============================] - 0s 4ms/step - loss: 0.3469 - accuracy: 0.9643\n",
            "Epoch 124/150\n",
            "4/4 [==============================] - 0s 4ms/step - loss: 0.3439 - accuracy: 0.9464\n",
            "Epoch 125/150\n",
            "4/4 [==============================] - 0s 5ms/step - loss: 0.3418 - accuracy: 0.9643\n",
            "Epoch 126/150\n",
            "4/4 [==============================] - 0s 6ms/step - loss: 0.3386 - accuracy: 0.9643\n",
            "Epoch 127/150\n",
            "4/4 [==============================] - 0s 5ms/step - loss: 0.3365 - accuracy: 0.9554\n",
            "Epoch 128/150\n",
            "4/4 [==============================] - 0s 6ms/step - loss: 0.3336 - accuracy: 0.9643\n",
            "Epoch 129/150\n",
            "4/4 [==============================] - 0s 4ms/step - loss: 0.3311 - accuracy: 0.9643\n",
            "Epoch 130/150\n",
            "4/4 [==============================] - 0s 4ms/step - loss: 0.3289 - accuracy: 0.9643\n",
            "Epoch 131/150\n",
            "4/4 [==============================] - 0s 4ms/step - loss: 0.3258 - accuracy: 0.9643\n",
            "Epoch 132/150\n",
            "4/4 [==============================] - 0s 5ms/step - loss: 0.3232 - accuracy: 0.9643\n",
            "Epoch 133/150\n",
            "4/4 [==============================] - 0s 5ms/step - loss: 0.3202 - accuracy: 0.9554\n",
            "Epoch 134/150\n",
            "4/4 [==============================] - 0s 6ms/step - loss: 0.3177 - accuracy: 0.9643\n",
            "Epoch 135/150\n",
            "4/4 [==============================] - 0s 4ms/step - loss: 0.3158 - accuracy: 0.9643\n",
            "Epoch 136/150\n",
            "4/4 [==============================] - 0s 4ms/step - loss: 0.3126 - accuracy: 0.9643\n",
            "Epoch 137/150\n",
            "4/4 [==============================] - 0s 5ms/step - loss: 0.3099 - accuracy: 0.9643\n",
            "Epoch 138/150\n",
            "4/4 [==============================] - 0s 8ms/step - loss: 0.3074 - accuracy: 0.9643\n",
            "Epoch 139/150\n",
            "4/4 [==============================] - 0s 4ms/step - loss: 0.3058 - accuracy: 0.9643\n",
            "Epoch 140/150\n",
            "4/4 [==============================] - 0s 5ms/step - loss: 0.3024 - accuracy: 0.9643\n",
            "Epoch 141/150\n",
            "4/4 [==============================] - 0s 4ms/step - loss: 0.2997 - accuracy: 0.9643\n",
            "Epoch 142/150\n",
            "4/4 [==============================] - 0s 4ms/step - loss: 0.2978 - accuracy: 0.9643\n",
            "Epoch 143/150\n",
            "4/4 [==============================] - 0s 4ms/step - loss: 0.2954 - accuracy: 0.9643\n",
            "Epoch 144/150\n",
            "4/4 [==============================] - 0s 6ms/step - loss: 0.2938 - accuracy: 0.9732\n",
            "Epoch 145/150\n",
            "4/4 [==============================] - 0s 7ms/step - loss: 0.2907 - accuracy: 0.9732\n",
            "Epoch 146/150\n",
            "4/4 [==============================] - 0s 6ms/step - loss: 0.2888 - accuracy: 0.9643\n",
            "Epoch 147/150\n",
            "4/4 [==============================] - 0s 6ms/step - loss: 0.2866 - accuracy: 0.9643\n",
            "Epoch 148/150\n",
            "4/4 [==============================] - 0s 5ms/step - loss: 0.2836 - accuracy: 0.9643\n",
            "Epoch 149/150\n",
            "4/4 [==============================] - 0s 6ms/step - loss: 0.2812 - accuracy: 0.9643\n",
            "Epoch 150/150\n",
            "4/4 [==============================] - 0s 5ms/step - loss: 0.2794 - accuracy: 0.9732\n"
          ]
        },
        {
          "output_type": "execute_result",
          "data": {
            "text/plain": [
              "<keras.callbacks.History at 0x7f6c16809ad0>"
            ]
          },
          "metadata": {},
          "execution_count": 10
        }
      ]
    },
    {
      "cell_type": "code",
      "source": [
        "model.history()"
      ],
      "metadata": {
        "id": "WWdrRZFac0Ll",
        "outputId": "8136a99a-40a8-4e71-f32f-df60dcf20d62",
        "colab": {
          "base_uri": "https://localhost:8080/",
          "height": 168
        }
      },
      "execution_count": null,
      "outputs": [
        {
          "output_type": "error",
          "ename": "NameError",
          "evalue": "ignored",
          "traceback": [
            "\u001b[0;31m---------------------------------------------------------------------------\u001b[0m",
            "\u001b[0;31mNameError\u001b[0m                                 Traceback (most recent call last)",
            "\u001b[0;32m<ipython-input-1-5747183b3ca8>\u001b[0m in \u001b[0;36m<module>\u001b[0;34m()\u001b[0m\n\u001b[0;32m----> 1\u001b[0;31m \u001b[0mmodel\u001b[0m\u001b[0;34m.\u001b[0m\u001b[0mhistory\u001b[0m\u001b[0;34m(\u001b[0m\u001b[0;34m)\u001b[0m\u001b[0;34m\u001b[0m\u001b[0;34m\u001b[0m\u001b[0m\n\u001b[0m",
            "\u001b[0;31mNameError\u001b[0m: name 'model' is not defined"
          ]
        }
      ]
    },
    {
      "cell_type": "code",
      "source": [
        "model.predict_classes(X_test) # Bu kod son guncelleme ile kaldirilmis yeni hali asagida"
      ],
      "metadata": {
        "id": "PM4IIDYdUydA",
        "colab": {
          "base_uri": "https://localhost:8080/",
          "height": 168
        },
        "outputId": "fd61392d-b856-4369-9d4f-1bbf79017c60"
      },
      "execution_count": null,
      "outputs": [
        {
          "output_type": "error",
          "ename": "AttributeError",
          "evalue": "ignored",
          "traceback": [
            "\u001b[0;31m---------------------------------------------------------------------------\u001b[0m",
            "\u001b[0;31mAttributeError\u001b[0m                            Traceback (most recent call last)",
            "\u001b[0;32m<ipython-input-11-3d22fbf3e185>\u001b[0m in \u001b[0;36m<module>\u001b[0;34m()\u001b[0m\n\u001b[0;32m----> 1\u001b[0;31m \u001b[0mmodel\u001b[0m\u001b[0;34m.\u001b[0m\u001b[0mpredict_classes\u001b[0m\u001b[0;34m(\u001b[0m\u001b[0mX_test\u001b[0m\u001b[0;34m)\u001b[0m \u001b[0;31m# Bu kod son guncelleme ile kaldirilmis yeni hali asagida\u001b[0m\u001b[0;34m\u001b[0m\u001b[0;34m\u001b[0m\u001b[0m\n\u001b[0m",
            "\u001b[0;31mAttributeError\u001b[0m: 'Sequential' object has no attribute 'predict_classes'"
          ]
        }
      ]
    },
    {
      "cell_type": "code",
      "source": [
        "predict_x=model.predict(X_test) \n",
        "classes_x=np.argmax(predict_x,axis=1)\n",
        "classes_x"
      ],
      "metadata": {
        "id": "NVvyJtjbWqJu",
        "outputId": "e9394284-4743-4d90-af44-921368b6612c",
        "colab": {
          "base_uri": "https://localhost:8080/"
        }
      },
      "execution_count": null,
      "outputs": [
        {
          "output_type": "execute_result",
          "data": {
            "text/plain": [
              "array([1, 0, 2, 1, 1, 0, 1, 2, 2, 1, 2, 0, 0, 0, 0, 1, 2, 1, 1, 2, 0, 2,\n",
              "       0, 2, 2, 2, 2, 2, 0, 0, 0, 0, 1, 0, 0, 2, 1, 0])"
            ]
          },
          "metadata": {},
          "execution_count": 12
        }
      ]
    },
    {
      "cell_type": "code",
      "source": [
        "!pip install ann_visualizer"
      ],
      "metadata": {
        "id": "7cGqRRHGZiZY",
        "colab": {
          "base_uri": "https://localhost:8080/"
        },
        "outputId": "c05239d3-8f73-49f5-a697-ae15c594a7ee"
      },
      "execution_count": null,
      "outputs": [
        {
          "output_type": "stream",
          "name": "stdout",
          "text": [
            "Collecting ann_visualizer\n",
            "  Downloading ann_visualizer-2.5.tar.gz (4.7 kB)\n",
            "Building wheels for collected packages: ann-visualizer\n",
            "  Building wheel for ann-visualizer (setup.py) ... \u001b[?25l\u001b[?25hdone\n",
            "  Created wheel for ann-visualizer: filename=ann_visualizer-2.5-py3-none-any.whl size=4168 sha256=0f2d7a7871323ee6751a362a2d7637d525507f6c3dd4eaf06189b3c80b66bf13\n",
            "  Stored in directory: /root/.cache/pip/wheels/1b/fc/58/2ab1c3b30350105929308becddda4fb59b1358e54f985e1f4a\n",
            "Successfully built ann-visualizer\n",
            "Installing collected packages: ann-visualizer\n",
            "Successfully installed ann-visualizer-2.5\n"
          ]
        }
      ]
    },
    {
      "cell_type": "code",
      "source": [
        "from ann_visualizer.visualize import ann_viz #collab tanimadigi icin ustte pip yapip sonra kullaniyoruz \n",
        "ann_viz(model,view=True,title=\"\",filename=\"gor\") # burda colab gorsel olarak gostermiyor o yuzden file olarak kaydediyoruz DOSYALARDA PDF HALINDE AMK WOWOOWOWOWWOOWOW"
      ],
      "metadata": {
        "id": "0JBkZC_lZ08s"
      },
      "execution_count": null,
      "outputs": []
    }
  ]
}